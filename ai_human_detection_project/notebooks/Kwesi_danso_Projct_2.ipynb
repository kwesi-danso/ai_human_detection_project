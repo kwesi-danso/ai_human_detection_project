{
 "cells": [
  {
   "attachments": {},
   "cell_type": "markdown",
   "metadata": {},
   "source": [
    "# Assignment 2 : Text classification using Advanced ML methods"
   ]
  },
  {
   "attachments": {},
   "cell_type": "markdown",
   "metadata": {},
   "source": [
    "## I: Data Loading and Exploaration"
   ]
  },
  {
   "cell_type": "code",
   "execution_count": 91,
   "metadata": {},
   "outputs": [
    {
     "name": "stderr",
     "output_type": "stream",
     "text": [
      "[nltk_data] Downloading package wordnet to\n",
      "[nltk_data]     C:\\Users\\NikoBelin\\AppData\\Roaming\\nltk_data...\n",
      "[nltk_data]   Package wordnet is already up-to-date!\n",
      "[nltk_data] Downloading package omw-1.4 to\n",
      "[nltk_data]     C:\\Users\\NikoBelin\\AppData\\Roaming\\nltk_data...\n",
      "[nltk_data]   Package omw-1.4 is already up-to-date!\n",
      "[nltk_data] Downloading package punkt to\n",
      "[nltk_data]     C:\\Users\\NikoBelin\\AppData\\Roaming\\nltk_data...\n",
      "[nltk_data]   Package punkt is already up-to-date!\n",
      "[nltk_data] Downloading package stopwords to\n",
      "[nltk_data]     C:\\Users\\NikoBelin\\AppData\\Roaming\\nltk_data...\n",
      "[nltk_data]   Package stopwords is already up-to-date!\n",
      "[nltk_data] Downloading package averaged_perceptron_tagger to\n",
      "[nltk_data]     C:\\Users\\NikoBelin\\AppData\\Roaming\\nltk_data...\n",
      "[nltk_data]   Package averaged_perceptron_tagger is already up-to-\n",
      "[nltk_data]       date!\n",
      "[nltk_data] Downloading package tagsets_json to\n",
      "[nltk_data]     C:\\Users\\NikoBelin\\AppData\\Roaming\\nltk_data...\n",
      "[nltk_data]   Package tagsets_json is already up-to-date!\n"
     ]
    }
   ],
   "source": [
    "# all the necessary libraries have been imported here\n",
    "\n",
    "import os\n",
    "import numpy as np\n",
    "import pandas as pd\n",
    "import joblib\n",
    "import matplotlib.pyplot as plt\n",
    "import seaborn as sns\n",
    "import string\n",
    "import time\n",
    "import nltk\n",
    "import re\n",
    "import matplotlib.pyplot as plt\n",
    "import os, re, io, zipfile, json, urllib.request\n",
    "from pathlib import Path\n",
    "from collections import Counter\n",
    "\n",
    "# Sklearn libraries for machine learning and text processing\n",
    "from sklearn.feature_extraction.text import TfidfVectorizer, CountVectorizer\n",
    "from sklearn.model_selection import train_test_split,GridSearchCV,cross_val_predict,cross_val_score,cross_validate,validation_curve,learning_curve,StratifiedKFold\n",
    "from sklearn.svm import SVC\n",
    "from sklearn.tree import DecisionTreeClassifier\n",
    "from sklearn.ensemble import AdaBoostClassifier\n",
    "from sklearn import metrics\n",
    "from sklearn.metrics import classification_report, confusion_matrix, roc_auc_score, roc_curve\n",
    "from sklearn.base import BaseEstimator, TransformerMixin\n",
    "from sklearn.pipeline import Pipeline\n",
    "from sklearn.ensemble import VotingClassifier\n",
    "from sklearn.feature_selection import SelectKBest, chi2\n",
    "\n",
    "\n",
    "\n",
    "\n",
    "# NLTK libraries for text processing (lemmatization, stemming, stopwords, POS tagging)\n",
    "import nltk\n",
    "from nltk.corpus import stopwords, wordnet\n",
    "from nltk.stem import WordNetLemmatizer, PorterStemmer\n",
    "from nltk import pos_tag\n",
    "from itertools import product\n",
    "\n",
    "# Download necessary NLTK resources for text processing\n",
    "nltk.download('wordnet')  # WordNet for lemmatization\n",
    "nltk.download('omw-1.4')  # Open Multilingual Wordnet\n",
    "nltk.download('punkt')  # Tokenizer\n",
    "nltk.download('stopwords')  # Stopwords for text cleaning\n",
    "nltk.download('averaged_perceptron_tagger')  # POS tagger for part-of-speech tagging\n",
    "nltk.download('tagsets_json')  # Tagset resource\n",
    "\n",
    "\n",
    "import torch\n",
    "from torch.utils.data import Dataset, DataLoader\n",
    "import torch, torch.nn as nn, torch.nn.functional as F\n",
    "\n"
   ]
  },
  {
   "cell_type": "code",
   "execution_count": 92,
   "metadata": {},
   "outputs": [],
   "source": [
    "# Train and test data loaded here\n",
    "# df_train = pd.read_excel(\"..Data/AI_vs_huam_train_dataset.xlsx\")\n",
    "# df_test = pd.read_csv(\"...Data/Final_test_data.csv\")\n",
    "\n",
    "df_train = pd.read_excel(\"../Data/AI_vs_huam_train_dataset.xlsx\", engine=\"openpyxl\")\n",
    "df_test  = pd.read_csv(\"../Data/final_test_data.csv\")\n"
   ]
  },
  {
   "cell_type": "code",
   "execution_count": 93,
   "metadata": {},
   "outputs": [
    {
     "data": {
      "text/html": [
       "<div>\n",
       "<style scoped>\n",
       "    .dataframe tbody tr th:only-of-type {\n",
       "        vertical-align: middle;\n",
       "    }\n",
       "\n",
       "    .dataframe tbody tr th {\n",
       "        vertical-align: top;\n",
       "    }\n",
       "\n",
       "    .dataframe thead th {\n",
       "        text-align: right;\n",
       "    }\n",
       "</style>\n",
       "<table border=\"1\" class=\"dataframe\">\n",
       "  <thead>\n",
       "    <tr style=\"text-align: right;\">\n",
       "      <th></th>\n",
       "      <th>label</th>\n",
       "    </tr>\n",
       "  </thead>\n",
       "  <tbody>\n",
       "    <tr>\n",
       "      <th>count</th>\n",
       "      <td>3728.000000</td>\n",
       "    </tr>\n",
       "    <tr>\n",
       "      <th>mean</th>\n",
       "      <td>0.500000</td>\n",
       "    </tr>\n",
       "    <tr>\n",
       "      <th>std</th>\n",
       "      <td>0.500067</td>\n",
       "    </tr>\n",
       "    <tr>\n",
       "      <th>min</th>\n",
       "      <td>0.000000</td>\n",
       "    </tr>\n",
       "    <tr>\n",
       "      <th>25%</th>\n",
       "      <td>0.000000</td>\n",
       "    </tr>\n",
       "    <tr>\n",
       "      <th>50%</th>\n",
       "      <td>0.500000</td>\n",
       "    </tr>\n",
       "    <tr>\n",
       "      <th>75%</th>\n",
       "      <td>1.000000</td>\n",
       "    </tr>\n",
       "    <tr>\n",
       "      <th>max</th>\n",
       "      <td>1.000000</td>\n",
       "    </tr>\n",
       "  </tbody>\n",
       "</table>\n",
       "</div>"
      ],
      "text/plain": [
       "             label\n",
       "count  3728.000000\n",
       "mean      0.500000\n",
       "std       0.500067\n",
       "min       0.000000\n",
       "25%       0.000000\n",
       "50%       0.500000\n",
       "75%       1.000000\n",
       "max       1.000000"
      ]
     },
     "execution_count": 93,
     "metadata": {},
     "output_type": "execute_result"
    }
   ],
   "source": [
    "# Description of the train data set which contains the count and other relevant info\n",
    "df_train.describe()"
   ]
  },
  {
   "cell_type": "code",
   "execution_count": 94,
   "metadata": {},
   "outputs": [
    {
     "data": {
      "text/plain": [
       "label\n",
       "0    1864\n",
       "1    1864\n",
       "Name: count, dtype: int64"
      ]
     },
     "execution_count": 94,
     "metadata": {},
     "output_type": "execute_result"
    }
   ],
   "source": [
    "# label category count of train data\n",
    "df_train[\"label\"].value_counts()"
   ]
  },
  {
   "cell_type": "code",
   "execution_count": 95,
   "metadata": {},
   "outputs": [
    {
     "data": {
      "text/html": [
       "<div>\n",
       "<style scoped>\n",
       "    .dataframe tbody tr th:only-of-type {\n",
       "        vertical-align: middle;\n",
       "    }\n",
       "\n",
       "    .dataframe tbody tr th {\n",
       "        vertical-align: top;\n",
       "    }\n",
       "\n",
       "    .dataframe thead th {\n",
       "        text-align: right;\n",
       "    }\n",
       "</style>\n",
       "<table border=\"1\" class=\"dataframe\">\n",
       "  <thead>\n",
       "    <tr style=\"text-align: right;\">\n",
       "      <th></th>\n",
       "      <th>essay</th>\n",
       "      <th>label</th>\n",
       "    </tr>\n",
       "  </thead>\n",
       "  <tbody>\n",
       "    <tr>\n",
       "      <th>0</th>\n",
       "      <td>International sports events require the most w...</td>\n",
       "      <td>0</td>\n",
       "    </tr>\n",
       "    <tr>\n",
       "      <th>1</th>\n",
       "      <td>Globalisation has become a significant aspect ...</td>\n",
       "      <td>0</td>\n",
       "    </tr>\n",
       "    <tr>\n",
       "      <th>2</th>\n",
       "      <td>There is an ever-increasing number of bullying...</td>\n",
       "      <td>0</td>\n",
       "    </tr>\n",
       "    <tr>\n",
       "      <th>3</th>\n",
       "      <td>It is commonly believed, that companies should...</td>\n",
       "      <td>0</td>\n",
       "    </tr>\n",
       "    <tr>\n",
       "      <th>4</th>\n",
       "      <td>Despite knowing about the adverse effects of c...</td>\n",
       "      <td>0</td>\n",
       "    </tr>\n",
       "    <tr>\n",
       "      <th>5</th>\n",
       "      <td>These days the space exploration is not just a...</td>\n",
       "      <td>0</td>\n",
       "    </tr>\n",
       "    <tr>\n",
       "      <th>6</th>\n",
       "      <td>Regarding the suggestions that governments sho...</td>\n",
       "      <td>0</td>\n",
       "    </tr>\n",
       "    <tr>\n",
       "      <th>7</th>\n",
       "      <td>The ability to associate at school has been a ...</td>\n",
       "      <td>0</td>\n",
       "    </tr>\n",
       "    <tr>\n",
       "      <th>8</th>\n",
       "      <td>It is true that today, people tend to give bir...</td>\n",
       "      <td>0</td>\n",
       "    </tr>\n",
       "    <tr>\n",
       "      <th>9</th>\n",
       "      <td>Weather to have children or not is one of the ...</td>\n",
       "      <td>0</td>\n",
       "    </tr>\n",
       "  </tbody>\n",
       "</table>\n",
       "</div>"
      ],
      "text/plain": [
       "                                               essay  label\n",
       "0  International sports events require the most w...      0\n",
       "1  Globalisation has become a significant aspect ...      0\n",
       "2  There is an ever-increasing number of bullying...      0\n",
       "3  It is commonly believed, that companies should...      0\n",
       "4  Despite knowing about the adverse effects of c...      0\n",
       "5  These days the space exploration is not just a...      0\n",
       "6  Regarding the suggestions that governments sho...      0\n",
       "7  The ability to associate at school has been a ...      0\n",
       "8  It is true that today, people tend to give bir...      0\n",
       "9  Weather to have children or not is one of the ...      0"
      ]
     },
     "execution_count": 95,
     "metadata": {},
     "output_type": "execute_result"
    }
   ],
   "source": [
    "# sample text of the first 10 data in the train data\n",
    "df_train.head(10)"
   ]
  },
  {
   "cell_type": "code",
   "execution_count": 96,
   "metadata": {},
   "outputs": [
    {
     "data": {
      "image/png": "[encoded data removed]",
      "text/plain": [
       "<Figure size 800x600 with 1 Axes>"
      ]
     },
     "metadata": {},
     "output_type": "display_data"
    }
   ],
   "source": [
    "# A visualization of the distribution of the label category\n",
    "\n",
    "# Count class occurrences in label category\n",
    "class_counts = df_train['label'].value_counts()\n",
    "\n",
    "# Bar plot\n",
    "plt.figure(figsize=(8, 6))\n",
    "class_counts.plot(kind='bar', color=['green', 'red'])  # Customize colors as needed\n",
    "plt.title(\"Class Distribution of label\")\n",
    "plt.xlabel(\"label\")\n",
    "plt.ylabel(\"Number of essays\")\n",
    "plt.xticks(rotation=0)\n",
    "plt.grid(axis='y', linestyle='--', alpha=0.7)\n",
    "plt.show()"
   ]
  },
  {
   "attachments": {},
   "cell_type": "markdown",
   "metadata": {},
   "source": [
    "## II : Text Preprocessing"
   ]
  },
  {
   "attachments": {},
   "cell_type": "markdown",
   "metadata": {},
   "source": [
    "<span style=\"color:blue; font-size:20px;\">Removing stopWords.</span>\n"
   ]
  },
  {
   "cell_type": "code",
   "execution_count": 97,
   "metadata": {},
   "outputs": [
    {
     "data": {
      "text/html": [
       "<div>\n",
       "<style scoped>\n",
       "    .dataframe tbody tr th:only-of-type {\n",
       "        vertical-align: middle;\n",
       "    }\n",
       "\n",
       "    .dataframe tbody tr th {\n",
       "        vertical-align: top;\n",
       "    }\n",
       "\n",
       "    .dataframe thead th {\n",
       "        text-align: right;\n",
       "    }\n",
       "</style>\n",
       "<table border=\"1\" class=\"dataframe\">\n",
       "  <thead>\n",
       "    <tr style=\"text-align: right;\">\n",
       "      <th></th>\n",
       "      <th>essay</th>\n",
       "      <th>label</th>\n",
       "      <th>clean_essay</th>\n",
       "    </tr>\n",
       "  </thead>\n",
       "  <tbody>\n",
       "    <tr>\n",
       "      <th>0</th>\n",
       "      <td>International sports events require the most w...</td>\n",
       "      <td>0</td>\n",
       "      <td>international sports events require welltraine...</td>\n",
       "    </tr>\n",
       "    <tr>\n",
       "      <th>1</th>\n",
       "      <td>Globalisation has become a significant aspect ...</td>\n",
       "      <td>0</td>\n",
       "      <td>globalisation become significant aspect world’...</td>\n",
       "    </tr>\n",
       "    <tr>\n",
       "      <th>2</th>\n",
       "      <td>There is an ever-increasing number of bullying...</td>\n",
       "      <td>0</td>\n",
       "      <td>everincreasing number bullying activities nume...</td>\n",
       "    </tr>\n",
       "    <tr>\n",
       "      <th>3</th>\n",
       "      <td>It is commonly believed, that companies should...</td>\n",
       "      <td>0</td>\n",
       "      <td>commonly believed companies dress code policy ...</td>\n",
       "    </tr>\n",
       "    <tr>\n",
       "      <th>4</th>\n",
       "      <td>Despite knowing about the adverse effects of c...</td>\n",
       "      <td>0</td>\n",
       "      <td>despite knowing adverse effects climate change...</td>\n",
       "    </tr>\n",
       "  </tbody>\n",
       "</table>\n",
       "</div>"
      ],
      "text/plain": [
       "                                               essay  label  \\\n",
       "0  International sports events require the most w...      0   \n",
       "1  Globalisation has become a significant aspect ...      0   \n",
       "2  There is an ever-increasing number of bullying...      0   \n",
       "3  It is commonly believed, that companies should...      0   \n",
       "4  Despite knowing about the adverse effects of c...      0   \n",
       "\n",
       "                                         clean_essay  \n",
       "0  international sports events require welltraine...  \n",
       "1  globalisation become significant aspect world’...  \n",
       "2  everincreasing number bullying activities nume...  \n",
       "3  commonly believed companies dress code policy ...  \n",
       "4  despite knowing adverse effects climate change...  "
      ]
     },
     "execution_count": 97,
     "metadata": {},
     "output_type": "execute_result"
    }
   ],
   "source": [
    "def remove_stopwords(essay):\n",
    "    \"\"\"\n",
    "    Cleans and processes an essay string.\n",
    "\n",
    "    This function takes a raw essay and performs several text cleaning steps:\n",
    "    1. Converts to lowercase\n",
    "    2. Removes punctuation\n",
    "    3. Removes pure numeric and mixed alphanumeric tokens using regex\n",
    "    4. Removes defined stopwords\n",
    "    5. Returns the cleaned essay as a string\n",
    "\n",
    "    Args:\n",
    "        essay (str): The input essay string to be processed.\n",
    "\n",
    "    Returns:\n",
    "        str: Cleaned essay string\n",
    "    \"\"\"\n",
    "    if not isinstance(essay, str):\n",
    "        return \"\"\n",
    "\n",
    "    # Define stopwords\n",
    "    STOPWORDS = stopwords.words('english') + ['u', 'ü', 'ur', '4', '2', 'im', 'dont', 'doin', 'ure']\n",
    "\n",
    "    # Lowercase and remove punctuation\n",
    "    essay = essay.lower()\n",
    "    nopunc = ''.join([char for char in essay if char not in string.punctuation])\n",
    "\n",
    "    # Tokenize and filter\n",
    "    cleaned_tokens = []\n",
    "    for word in nopunc.split():\n",
    "        if re.match(r'^\\d+$', word):  # Remove pure numbers\n",
    "            continue\n",
    "        if re.match(r'^\\w*\\d\\w*$', word):  # Remove mixed alphanumerics\n",
    "            continue\n",
    "        if word in STOPWORDS:\n",
    "            continue\n",
    "        cleaned_tokens.append(word)\n",
    "\n",
    "    return ' '.join(cleaned_tokens)\n",
    "\n",
    "df_train[\"clean_essay\"] = df_train[\"essay\"].apply(remove_stopwords) #applying stopwords to the train data\n",
    "df_test[\"clean_essay\"] = df_test[\"essay\"].apply(remove_stopwords)    #applying stopwords to the test data\n",
    "\n",
    "\n",
    "#show the first 5 data of the train data with the new column for clean essays\n",
    "df_train.head(5) \n"
   ]
  },
  {
   "cell_type": "code",
   "execution_count": 98,
   "metadata": {},
   "outputs": [
    {
     "data": {
      "text/html": [
       "<div>\n",
       "<style scoped>\n",
       "    .dataframe tbody tr th:only-of-type {\n",
       "        vertical-align: middle;\n",
       "    }\n",
       "\n",
       "    .dataframe tbody tr th {\n",
       "        vertical-align: top;\n",
       "    }\n",
       "\n",
       "    .dataframe thead th {\n",
       "        text-align: right;\n",
       "    }\n",
       "</style>\n",
       "<table border=\"1\" class=\"dataframe\">\n",
       "  <thead>\n",
       "    <tr style=\"text-align: right;\">\n",
       "      <th></th>\n",
       "      <th>essay</th>\n",
       "      <th>clean_essay</th>\n",
       "    </tr>\n",
       "  </thead>\n",
       "  <tbody>\n",
       "    <tr>\n",
       "      <th>0</th>\n",
       "      <td>International sports events require the most w...</td>\n",
       "      <td>international sports events require welltraine...</td>\n",
       "    </tr>\n",
       "    <tr>\n",
       "      <th>1</th>\n",
       "      <td>Globalisation has become a significant aspect ...</td>\n",
       "      <td>globalisation become significant aspect world’...</td>\n",
       "    </tr>\n",
       "    <tr>\n",
       "      <th>2</th>\n",
       "      <td>There is an ever-increasing number of bullying...</td>\n",
       "      <td>everincreasing number bullying activities nume...</td>\n",
       "    </tr>\n",
       "    <tr>\n",
       "      <th>3</th>\n",
       "      <td>It is commonly believed, that companies should...</td>\n",
       "      <td>commonly believed companies dress code policy ...</td>\n",
       "    </tr>\n",
       "    <tr>\n",
       "      <th>4</th>\n",
       "      <td>Despite knowing about the adverse effects of c...</td>\n",
       "      <td>despite knowing adverse effects climate change...</td>\n",
       "    </tr>\n",
       "  </tbody>\n",
       "</table>\n",
       "</div>"
      ],
      "text/plain": [
       "                                               essay  \\\n",
       "0  International sports events require the most w...   \n",
       "1  Globalisation has become a significant aspect ...   \n",
       "2  There is an ever-increasing number of bullying...   \n",
       "3  It is commonly believed, that companies should...   \n",
       "4  Despite knowing about the adverse effects of c...   \n",
       "\n",
       "                                         clean_essay  \n",
       "0  international sports events require welltraine...  \n",
       "1  globalisation become significant aspect world’...  \n",
       "2  everincreasing number bullying activities nume...  \n",
       "3  commonly believed companies dress code policy ...  \n",
       "4  despite knowing adverse effects climate change...  "
      ]
     },
     "execution_count": 98,
     "metadata": {},
     "output_type": "execute_result"
    }
   ],
   "source": [
    "#Display to show the comparison of the first 5 data before and after applying stopwords in clean data.(Examples)\n",
    "df_train[['essay','clean_essay']].head(5)\n",
    "\n",
    "\n"
   ]
  },
  {
   "cell_type": "code",
   "execution_count": 99,
   "metadata": {},
   "outputs": [
    {
     "name": "stdout",
     "output_type": "stream",
     "text": [
      "Vocabulary size before stopword removal: 42702\n",
      "Vocabulary size after stopword removal: 26300\n"
     ]
    }
   ],
   "source": [
    "# Tokenize each tweet by splitting on blank or space.\n",
    "original_tokenized_essay = df_train['essay'].apply(lambda tweet: tweet.split()) #spliting training text without applying stopwords.\n",
    "clean_tokenized_essay = df_train['clean_essay'].apply(lambda tweet: tweet.split()) #spliting training text after applying stopwords.\n",
    "clean_tokenized_test_essay = df_test['clean_essay'].apply(lambda tweet: tweet.split()) #splitting the test data.\n",
    "\n",
    "\n",
    "df_train['clean_tokens'] = clean_tokenized_essay  #creating a column with name \"clean tokens\" in training data\n",
    "df_test['clean_tokens'] = clean_tokenized_test_essay   #creating a column with name \"clean tokens\" in test data\n",
    "\n",
    "\n",
    "# Flatten the list of token lists into a single list of tokens\n",
    "all_old_tokens = [word for tokens in original_tokenized_essay for word in tokens]\n",
    "all_new_tokens = [word for tokens in clean_tokenized_essay for word in tokens]\n",
    "\n",
    "\n",
    "\n",
    "old_vocab = set(all_old_tokens)\n",
    "new_vocab = set(all_new_tokens)\n",
    "\n",
    "#showing the difference vocabulary size before and after applying stop word removal.\n",
    "print(\"Vocabulary size before stopword removal:\", len(old_vocab))\n",
    "print(\"Vocabulary size after stopword removal:\", len(new_vocab))"
   ]
  },
  {
   "attachments": {},
   "cell_type": "markdown",
   "metadata": {},
   "source": [
    "<span style=\"color:blue; font-size:20px;\">Stemming and lemmitaization.</span>"
   ]
  },
  {
   "cell_type": "code",
   "execution_count": 101,
   "metadata": {},
   "outputs": [],
   "source": [
    "# stemming and lemmitization\n",
    "\n",
    "def preprocess_stem(tokens):\n",
    "    \"\"\"\n",
    "    Apply Porter Stemming to a list of tokens.\n",
    "\n",
    "    Args:\n",
    "        tokens (list): A list of word tokens (already tokenized and stopword-removed)\n",
    "\n",
    "    Returns:\n",
    "        list: Stemmed tokens\n",
    "    \"\"\"\n",
    "    stemmer = PorterStemmer()\n",
    "    return [stemmer.stem(token) for token in tokens]\n",
    "\n",
    "\n",
    "# Helper: Map POS tag to WordNet format\n",
    "def get_wordnet_pos(tag):\n",
    "    if tag.startswith('J'):\n",
    "        return wordnet.ADJ\n",
    "    elif tag.startswith('V'):\n",
    "        return wordnet.VERB\n",
    "    elif tag.startswith('N'):\n",
    "        return wordnet.NOUN\n",
    "    elif tag.startswith('R'):\n",
    "        return wordnet.ADV\n",
    "    else:\n",
    "        return wordnet.NOUN  # Default\n",
    "\n",
    "# Main Lemmatization Function\n",
    "def preprocess_lematise(tokens):\n",
    "    \"\"\"\n",
    "    Apply lemmatization with POS tagging to a list of tokens.\n",
    "\n",
    "    Args:\n",
    "        tokens (list): Tokenized words (already cleaned and stopword-removed)\n",
    "\n",
    "    Returns:\n",
    "        list: Lemmatized tokens\n",
    "    \"\"\"\n",
    "    lemmatizer = WordNetLemmatizer()\n",
    "    pos_tags = pos_tag(tokens)\n",
    "    return [\n",
    "        lemmatizer.lemmatize(word, get_wordnet_pos(tag))\n",
    "        for word, tag in pos_tags\n",
    "    ]\n",
    "\n",
    "df_train[\"stemmed_tokens\"] = df_train[\"clean_tokens\"].apply(preprocess_stem)      #applying stemming on training data\n",
    "df_train[\"lemmatized_tokens\"] = df_train[\"clean_tokens\"].apply(preprocess_lematise)    #applying lemitiaztion on training data\n",
    "\n",
    "\n",
    "\n",
    "df_test[\"lemmatized_tokens\"] = df_test[\"clean_tokens\"].apply(preprocess_lematise)     #applying lemitiaztion on test data\n",
    "\n",
    "\n",
    "\n",
    "\n"
   ]
  },
  {
   "cell_type": "code",
   "execution_count": 102,
   "metadata": {},
   "outputs": [
    {
     "data": {
      "text/html": [
       "<div>\n",
       "<style scoped>\n",
       "    .dataframe tbody tr th:only-of-type {\n",
       "        vertical-align: middle;\n",
       "    }\n",
       "\n",
       "    .dataframe tbody tr th {\n",
       "        vertical-align: top;\n",
       "    }\n",
       "\n",
       "    .dataframe thead th {\n",
       "        text-align: right;\n",
       "    }\n",
       "</style>\n",
       "<table border=\"1\" class=\"dataframe\">\n",
       "  <thead>\n",
       "    <tr style=\"text-align: right;\">\n",
       "      <th></th>\n",
       "      <th>clean_tokens</th>\n",
       "      <th>stemmed_tokens</th>\n",
       "      <th>lemmatized_tokens</th>\n",
       "    </tr>\n",
       "  </thead>\n",
       "  <tbody>\n",
       "    <tr>\n",
       "      <th>0</th>\n",
       "      <td>[international, sports, events, require, wellt...</td>\n",
       "      <td>[intern, sport, event, requir, welltrain, athl...</td>\n",
       "      <td>[international, sport, event, require, welltra...</td>\n",
       "    </tr>\n",
       "    <tr>\n",
       "      <th>1</th>\n",
       "      <td>[globalisation, become, significant, aspect, w...</td>\n",
       "      <td>[globalis, becom, signific, aspect, world’, mo...</td>\n",
       "      <td>[globalisation, become, significant, aspect, w...</td>\n",
       "    </tr>\n",
       "    <tr>\n",
       "      <th>2</th>\n",
       "      <td>[everincreasing, number, bullying, activities,...</td>\n",
       "      <td>[everincreas, number, bulli, activ, numer, sch...</td>\n",
       "      <td>[everincreasing, number, bullying, activity, n...</td>\n",
       "    </tr>\n",
       "    <tr>\n",
       "      <th>3</th>\n",
       "      <td>[commonly, believed, companies, dress, code, p...</td>\n",
       "      <td>[commonli, believ, compani, dress, code, polic...</td>\n",
       "      <td>[commonly, believe, company, dress, code, poli...</td>\n",
       "    </tr>\n",
       "    <tr>\n",
       "      <th>4</th>\n",
       "      <td>[despite, knowing, adverse, effects, climate, ...</td>\n",
       "      <td>[despit, know, advers, effect, climat, chang, ...</td>\n",
       "      <td>[despite, know, adverse, effect, climate, chan...</td>\n",
       "    </tr>\n",
       "    <tr>\n",
       "      <th>5</th>\n",
       "      <td>[days, space, exploration, imagination, since,...</td>\n",
       "      <td>[day, space, explor, imagin, sinc, human, be, ...</td>\n",
       "      <td>[day, space, exploration, imagination, since, ...</td>\n",
       "    </tr>\n",
       "    <tr>\n",
       "      <th>6</th>\n",
       "      <td>[regarding, suggestions, governments, offord, ...</td>\n",
       "      <td>[regard, suggest, govern, offord, tuition, sub...</td>\n",
       "      <td>[regard, suggestion, government, offord, tuiti...</td>\n",
       "    </tr>\n",
       "    <tr>\n",
       "      <th>7</th>\n",
       "      <td>[ability, associate, school, great, concern, o...</td>\n",
       "      <td>[abil, associ, school, great, concern, owe, as...</td>\n",
       "      <td>[ability, associate, school, great, concern, o...</td>\n",
       "    </tr>\n",
       "    <tr>\n",
       "      <th>8</th>\n",
       "      <td>[true, today, people, tend, give, birth, older...</td>\n",
       "      <td>[true, today, peopl, tend, give, birth, older,...</td>\n",
       "      <td>[true, today, people, tend, give, birth, older...</td>\n",
       "    </tr>\n",
       "    <tr>\n",
       "      <th>9</th>\n",
       "      <td>[weather, children, one, important, questions,...</td>\n",
       "      <td>[weather, children, one, import, question, you...</td>\n",
       "      <td>[weather, child, one, important, question, you...</td>\n",
       "    </tr>\n",
       "  </tbody>\n",
       "</table>\n",
       "</div>"
      ],
      "text/plain": [
       "                                        clean_tokens  \\\n",
       "0  [international, sports, events, require, wellt...   \n",
       "1  [globalisation, become, significant, aspect, w...   \n",
       "2  [everincreasing, number, bullying, activities,...   \n",
       "3  [commonly, believed, companies, dress, code, p...   \n",
       "4  [despite, knowing, adverse, effects, climate, ...   \n",
       "5  [days, space, exploration, imagination, since,...   \n",
       "6  [regarding, suggestions, governments, offord, ...   \n",
       "7  [ability, associate, school, great, concern, o...   \n",
       "8  [true, today, people, tend, give, birth, older...   \n",
       "9  [weather, children, one, important, questions,...   \n",
       "\n",
       "                                      stemmed_tokens  \\\n",
       "0  [intern, sport, event, requir, welltrain, athl...   \n",
       "1  [globalis, becom, signific, aspect, world’, mo...   \n",
       "2  [everincreas, number, bulli, activ, numer, sch...   \n",
       "3  [commonli, believ, compani, dress, code, polic...   \n",
       "4  [despit, know, advers, effect, climat, chang, ...   \n",
       "5  [day, space, explor, imagin, sinc, human, be, ...   \n",
       "6  [regard, suggest, govern, offord, tuition, sub...   \n",
       "7  [abil, associ, school, great, concern, owe, as...   \n",
       "8  [true, today, peopl, tend, give, birth, older,...   \n",
       "9  [weather, children, one, import, question, you...   \n",
       "\n",
       "                                   lemmatized_tokens  \n",
       "0  [international, sport, event, require, welltra...  \n",
       "1  [globalisation, become, significant, aspect, w...  \n",
       "2  [everincreasing, number, bullying, activity, n...  \n",
       "3  [commonly, believe, company, dress, code, poli...  \n",
       "4  [despite, know, adverse, effect, climate, chan...  \n",
       "5  [day, space, exploration, imagination, since, ...  \n",
       "6  [regard, suggestion, government, offord, tuiti...  \n",
       "7  [ability, associate, school, great, concern, o...  \n",
       "8  [true, today, people, tend, give, birth, older...  \n",
       "9  [weather, child, one, important, question, you...  "
      ]
     },
     "execution_count": 102,
     "metadata": {},
     "output_type": "execute_result"
    }
   ],
   "source": [
    "# A comparison of clean token,stemmed tokens and lemitized tokens in the firt 10 data in the training data.\n",
    "df_train[['clean_tokens','stemmed_tokens','lemmatized_tokens']].head(10)\n",
    "\n"
   ]
  },
  {
   "attachments": {},
   "cell_type": "markdown",
   "metadata": {},
   "source": [
    "## III : Feature Extraction "
   ]
  },
  {
   "attachments": {},
   "cell_type": "markdown",
   "metadata": {},
   "source": [
    "<span style=\"color:blue; font-size:20px;\">All other works used the lemitized tokens</span>\n"
   ]
  },
  {
   "cell_type": "code",
   "execution_count": 103,
   "metadata": {},
   "outputs": [],
   "source": [
    "#join the token back to form text for both train and test data.\n",
    "df_train['lemmatized_text'] = df_train['lemmatized_tokens'].apply(lambda tokens: ' '.join(tokens))\n",
    "df_test['lemmatized_text'] = df_test['lemmatized_tokens'].apply(lambda tokens: ' '.join(tokens))\n",
    "\n",
    "\n",
    "#Initialize most important component in the training data(preparing for feature extraction)\n",
    "X = df_train[\"lemmatized_text\"]\n",
    "y = df_train[\"label\"]\n",
    "\n",
    "\n",
    "# Split training data into train and validation sets\n",
    "\n",
    "X_train,X_val,y_train,y_val = train_test_split(X,y,test_size=0.2,random_state=42,stratify=y)\n",
    "\n",
    "\n"
   ]
  },
  {
   "cell_type": "code",
   "execution_count": 104,
   "metadata": {},
   "outputs": [
    {
     "name": "stdout",
     "output_type": "stream",
     "text": [
      "   ngram_range  max_features  min_df  max_df   train_shape    val_shape  \\\n",
      "0       (1, 1)          1000       2    0.75  (2982, 1000)  (746, 1000)   \n",
      "1       (1, 1)          1000       2    0.85  (2982, 1000)  (746, 1000)   \n",
      "2       (1, 1)          1000       5    0.75  (2982, 1000)  (746, 1000)   \n",
      "3       (1, 1)          1000       5    0.85  (2982, 1000)  (746, 1000)   \n",
      "4       (1, 1)          2000       2    0.75  (2982, 2000)  (746, 2000)   \n",
      "5       (1, 1)          2000       2    0.85  (2982, 2000)  (746, 2000)   \n",
      "6       (1, 1)          2000       5    0.75  (2982, 2000)  (746, 2000)   \n",
      "7       (1, 1)          2000       5    0.85  (2982, 2000)  (746, 2000)   \n",
      "8       (1, 1)          3000       2    0.75  (2982, 3000)  (746, 3000)   \n",
      "9       (1, 1)          3000       2    0.85  (2982, 3000)  (746, 3000)   \n",
      "10      (1, 1)          3000       5    0.75  (2982, 3000)  (746, 3000)   \n",
      "11      (1, 1)          3000       5    0.85  (2982, 3000)  (746, 3000)   \n",
      "12      (1, 2)          1000       2    0.75  (2982, 1000)  (746, 1000)   \n",
      "13      (1, 2)          1000       2    0.85  (2982, 1000)  (746, 1000)   \n",
      "14      (1, 2)          1000       5    0.75  (2982, 1000)  (746, 1000)   \n",
      "15      (1, 2)          1000       5    0.85  (2982, 1000)  (746, 1000)   \n",
      "16      (1, 2)          2000       2    0.75  (2982, 2000)  (746, 2000)   \n",
      "17      (1, 2)          2000       2    0.85  (2982, 2000)  (746, 2000)   \n",
      "18      (1, 2)          2000       5    0.75  (2982, 2000)  (746, 2000)   \n",
      "19      (1, 2)          2000       5    0.85  (2982, 2000)  (746, 2000)   \n",
      "20      (1, 2)          3000       2    0.75  (2982, 3000)  (746, 3000)   \n",
      "21      (1, 2)          3000       2    0.85  (2982, 3000)  (746, 3000)   \n",
      "22      (1, 2)          3000       5    0.75  (2982, 3000)  (746, 3000)   \n",
      "23      (1, 2)          3000       5    0.85  (2982, 3000)  (746, 3000)   \n",
      "24      (1, 3)          1000       2    0.75  (2982, 1000)  (746, 1000)   \n",
      "25      (1, 3)          1000       2    0.85  (2982, 1000)  (746, 1000)   \n",
      "26      (1, 3)          1000       5    0.75  (2982, 1000)  (746, 1000)   \n",
      "27      (1, 3)          1000       5    0.85  (2982, 1000)  (746, 1000)   \n",
      "28      (1, 3)          2000       2    0.75  (2982, 2000)  (746, 2000)   \n",
      "29      (1, 3)          2000       2    0.85  (2982, 2000)  (746, 2000)   \n",
      "30      (1, 3)          2000       5    0.75  (2982, 2000)  (746, 2000)   \n",
      "31      (1, 3)          2000       5    0.85  (2982, 2000)  (746, 2000)   \n",
      "32      (1, 3)          3000       2    0.75  (2982, 3000)  (746, 3000)   \n",
      "33      (1, 3)          3000       2    0.85  (2982, 3000)  (746, 3000)   \n",
      "34      (1, 3)          3000       5    0.75  (2982, 3000)  (746, 3000)   \n",
      "35      (1, 3)          3000       5    0.85  (2982, 3000)  (746, 3000)   \n",
      "\n",
      "    vocab_size  \n",
      "0         1000  \n",
      "1         1000  \n",
      "2         1000  \n",
      "3         1000  \n",
      "4         2000  \n",
      "5         2000  \n",
      "6         2000  \n",
      "7         2000  \n",
      "8         3000  \n",
      "9         3000  \n",
      "10        3000  \n",
      "11        3000  \n",
      "12        1000  \n",
      "13        1000  \n",
      "14        1000  \n",
      "15        1000  \n",
      "16        2000  \n",
      "17        2000  \n",
      "18        2000  \n",
      "19        2000  \n",
      "20        3000  \n",
      "21        3000  \n",
      "22        3000  \n",
      "23        3000  \n",
      "24        1000  \n",
      "25        1000  \n",
      "26        1000  \n",
      "27        1000  \n",
      "28        2000  \n",
      "29        2000  \n",
      "30        2000  \n",
      "31        2000  \n",
      "32        3000  \n",
      "33        3000  \n",
      "34        3000  \n",
      "35        3000  \n",
      "Saved best SVM model to ../models/svm_model.pkl\n"
     ]
    }
   ],
   "source": [
    "# all parameters defined \n",
    "ngram_ranges = [(1,1), (1,2), (1,3)]\n",
    "max_features_list = [1000, 2000, 3000]\n",
    "min_df_list = [2, 5]\n",
    "max_df_list = [0.75, 0.85]\n",
    "\n",
    "\n",
    "results = []\n",
    "\n",
    "# Loop over all parameter combinations\n",
    "for ngram, max_feat, min_df, max_df in product(ngram_ranges, max_features_list, min_df_list, max_df_list):\n",
    "    try:\n",
    "    \n",
    "        vectorizer = TfidfVectorizer(\n",
    "            ngram_range=ngram,\n",
    "            max_features=max_feat,\n",
    "            min_df=min_df,\n",
    "            max_df=max_df\n",
    "        )\n",
    "    \n",
    "        X_train_tfid = vectorizer.fit_transform(X_train)\n",
    "        X_val_tfid = vectorizer.transform(X_val)\n",
    "        X_test_tfid =vectorizer.transform(df_test['lemmatized_text'])\n",
    "\n",
    "    \n",
    "        results.append({\n",
    "            'ngram_range': ngram,\n",
    "            'max_features': max_feat,\n",
    "            'min_df': min_df,\n",
    "            'max_df': max_df,\n",
    "            'train_shape': X_train_tfid.shape,\n",
    "            'val_shape': X_val_tfid.shape,\n",
    "            'vocab_size': len(vectorizer.vocabulary_)\n",
    "        })\n",
    "    except Exception as e:\n",
    "        results.append({\n",
    "            'ngram_range': ngram,\n",
    "            'max_features': max_feat,\n",
    "            'min_df': min_df,\n",
    "            'max_df': max_df,\n",
    "            'error': str(e)\n",
    "        })\n",
    "\n",
    "\n",
    "\n",
    "# Convert results to DataFrame and print\n",
    "\n",
    "results_df = pd.DataFrame(results)\n",
    "print(results_df)\n",
    "\n",
    "joblib.dump(vectorizer, '../models/tfidf_vectorizer.pkl')\n",
    "print(\"Saved best SVM model to ../models/svm_model.pkl\")\n",
    "\n"
   ]
  },
  {
   "attachments": {},
   "cell_type": "markdown",
   "metadata": {},
   "source": [
    "## III : Pipeline creation"
   ]
  },
  {
   "cell_type": "code",
   "execution_count": 105,
   "metadata": {},
   "outputs": [
    {
     "name": "stdout",
     "output_type": "stream",
     "text": [
      "Grid Search -- Support Vector Machine(SVM)\n",
      "---------------------------------------------\n"
     ]
    }
   ],
   "source": [
    "# Implement GridSearch for SVM pipeline\n",
    "\n",
    "\n",
    "print(\"Grid Search -- Support Vector Machine(SVM)\")\n",
    "print(\"-\" * 45)\n",
    "\n",
    "svm_pipeline = Pipeline([('vectorizer',TfidfVectorizer()), ('classifier',SVC(probability=True, random_state=42))])\n",
    "\n",
    "svm_param_grid = {'vectorizer__max_features': [1000, 5000, 10000],\n",
    "'vectorizer__ngram_range': [(1,1), (1,2), (1,3)],\n",
    "'classifier__C': [0.1, 1, 10, 100],\n",
    "'classifier__kernel': ['linear', 'rbf'],\n",
    "'classifier__gamma': ['scale', 'auto', 0.001, 0.01] } # for rbf kernel\n",
    "\n",
    "\n",
    "\n",
    "\n",
    "\n"
   ]
  },
  {
   "cell_type": "code",
   "execution_count": 106,
   "metadata": {},
   "outputs": [
    {
     "name": "stdout",
     "output_type": "stream",
     "text": [
      "Grid Search -- Decision Tree(DT)\n",
      "---------------------------------------------\n"
     ]
    }
   ],
   "source": [
    "# Implement GridSearch for Decision Tree pipeline\n",
    "print(\"Grid Search -- Decision Tree(DT)\")\n",
    "print(\"-\" * 45)\n",
    "\n",
    "\n",
    "dt_pipeline = Pipeline([('vectorizer',TfidfVectorizer()),('classifier',DecisionTreeClassifier())])\n",
    "\n",
    "\n",
    "dt_param_grid = {'vectorizer__max_features': [1000, 5000, 10000],\n",
    "'vectorizer__ngram_range': [(1,1), (1,2), (1,3)],\n",
    "'classifier__criterion': ['gini', 'entropy'],\n",
    "'classifier__max_depth': [10, 20, 30, None],\n",
    "'classifier__min_samples_split': [2, 5, 10],\n",
    "'classifier__min_samples_leaf': [1, 2, 4] }\n",
    " \n",
    "   \n",
    "\n"
   ]
  },
  {
   "cell_type": "code",
   "execution_count": 107,
   "metadata": {},
   "outputs": [
    {
     "name": "stdout",
     "output_type": "stream",
     "text": [
      "Grid Search -- Ada boost(ADA)\n",
      "---------------------------------------------\n"
     ]
    }
   ],
   "source": [
    "# Implement GridSearch for Adaboost pipeline\n",
    "print(\"Grid Search -- Ada boost(ADA)\")\n",
    "print(\"-\" * 45)\n",
    "\n",
    "\n",
    "ada_pipeline = Pipeline([('vectorizer',TfidfVectorizer()),('classifier', AdaBoostClassifier())])\n",
    "\n",
    "\n",
    "ada_param_grid = {\n",
    "    'vectorizer__max_features': [1000, 5000, 10000],\n",
    "    'vectorizer__ngram_range': [(1, 1), (1, 2), (1,3)],\n",
    "    'classifier__n_estimators': [50, 100, 200],\n",
    "    'classifier__learning_rate': [0.01, 0.1, 0.5, 1.0],\n",
    "}"
   ]
  },
  {
   "attachments": {},
   "cell_type": "markdown",
   "metadata": {},
   "source": [
    "## IV : Hyperparameter Optimization"
   ]
  },
  {
   "cell_type": "code",
   "execution_count": 108,
   "metadata": {},
   "outputs": [
    {
     "name": "stdout",
     "output_type": "stream",
     "text": [
      "Performing Grid Search for support vector machine...\n",
      "Fitting 5 folds for each of 288 candidates, totalling 1440 fits\n",
      "\n",
      "Grid Search completed in 12333.51 seconds\n",
      "Total parameter combinations tested: 288\n",
      "Best parameters: {'classifier__C': 10, 'classifier__gamma': 'scale', 'classifier__kernel': 'linear', 'vectorizer__max_features': 5000, 'vectorizer__ngram_range': (1, 2)}\n",
      "Best cross-validation score: 0.9789\n",
      "Saved best SVM model to ../models/svm_model.pkl\n"
     ]
    }
   ],
   "source": [
    "\n",
    "# Perform grid search\n",
    "\n",
    "svm_grid_search = GridSearchCV(estimator=svm_pipeline,\n",
    "                               param_grid=svm_param_grid,\n",
    "                               cv=5,           \n",
    "                               scoring='accuracy',\n",
    "                               n_jobs=-1,\n",
    "                               verbose=1,\n",
    "                               return_train_score=True )\n",
    "\n",
    "\n",
    "print(\"Performing Grid Search for support vector machine...\")\n",
    "start_time = time.time()\n",
    "svm_grid_search.fit(X_train,y_train)\n",
    "end_time = time.time()\n",
    "\n",
    "\n",
    "print(f\"\\nGrid Search completed in {end_time - start_time:.2f} seconds\")\n",
    "print(f\"Total parameter combinations tested: {len(svm_grid_search.cv_results_['params'])}\")\n",
    "print(f\"Best parameters: {svm_grid_search.best_params_}\")\n",
    "print(f\"Best cross-validation score: {svm_grid_search.best_score_:.4f}\")\n",
    "\n",
    "\n",
    "# Save best estimator (pipeline)\n",
    "joblib.dump(svm_grid_search.best_estimator_, '../models/svm_model.pkl')\n",
    "\n",
    "print(\"Saved best SVM model to ../models/svm_model.pkl\")"
   ]
  },
  {
   "cell_type": "code",
   "execution_count": 109,
   "metadata": {},
   "outputs": [
    {
     "name": "stdout",
     "output_type": "stream",
     "text": [
      "Performing Grid Search for Decision tree...\n",
      "Fitting 5 folds for each of 648 candidates, totalling 3240 fits\n",
      "\n",
      "Grid Search completed in 3326.98 seconds\n",
      "Total parameter combinations tested: 648\n",
      "Best parameters: {'classifier__criterion': 'gini', 'classifier__max_depth': 10, 'classifier__min_samples_leaf': 1, 'classifier__min_samples_split': 2, 'vectorizer__max_features': 5000, 'vectorizer__ngram_range': (1, 3)}\n",
      "Best cross-validation score: 0.9188\n",
      "Saved best Decision Tree model to ../models/decision_Tree_model.pkl\n"
     ]
    }
   ],
   "source": [
    "# Perform grid search\n",
    "\n",
    "dt_grid_search = GridSearchCV(estimator = dt_pipeline,\n",
    "                               param_grid =dt_param_grid,\n",
    "                               cv=5,           \n",
    "                               scoring='accuracy',\n",
    "                               n_jobs=-1,\n",
    "                               verbose=1,\n",
    "                               return_train_score=True )\n",
    "\n",
    "print(\"Performing Grid Search for Decision tree...\")\n",
    "start_time = time.time()\n",
    "dt_grid_search.fit(X_train,y_train)\n",
    "end_time = time.time()\n",
    "\n",
    "\n",
    "print(f\"\\nGrid Search completed in {end_time - start_time:.2f} seconds\")\n",
    "print(f\"Total parameter combinations tested: {len(dt_grid_search.cv_results_['params'])}\")\n",
    "print(f\"Best parameters: {dt_grid_search.best_params_}\")\n",
    "print(f\"Best cross-validation score: {dt_grid_search.best_score_:.4f}\")\n",
    "\n",
    "\n",
    "# Save best estimator (pipeline)\n",
    "joblib.dump(dt_grid_search.best_estimator_, '../models/decision_Tree_model.pkl')\n",
    "\n",
    "print(\"Saved best Decision Tree model to ../models/decision_Tree_model.pkl\")"
   ]
  },
  {
   "cell_type": "code",
   "execution_count": 110,
   "metadata": {},
   "outputs": [
    {
     "name": "stdout",
     "output_type": "stream",
     "text": [
      "Performing Grid Search for ADA Boost..\n",
      "Fitting 5 folds for each of 108 candidates, totalling 540 fits\n",
      "\n",
      "Grid Search completed in 1843.90 seconds\n",
      "Total parameter combinations tested: 108\n",
      "Best parameters: {'classifier__learning_rate': 1.0, 'classifier__n_estimators': 200, 'vectorizer__max_features': 5000, 'vectorizer__ngram_range': (1, 3)}\n",
      "Best cross-validation score: 0.9762\n",
      "Saved best Decision Tree model to ../models/adaBoost_model.pkl\n"
     ]
    }
   ],
   "source": [
    "# Perform grid search\n",
    "\n",
    "ada_grid_search = GridSearchCV(estimator = ada_pipeline,\n",
    "                               param_grid =ada_param_grid,\n",
    "                               cv=5,           \n",
    "                               scoring='accuracy',\n",
    "                               n_jobs=-1,\n",
    "                               verbose=1,\n",
    "                               return_train_score=True )\n",
    "\n",
    "print(\"Performing Grid Search for ADA Boost..\")\n",
    "start_time = time.time()\n",
    "ada_grid_search.fit(X_train,y_train)\n",
    "end_time = time.time()\n",
    "\n",
    "\n",
    "print(f\"\\nGrid Search completed in {end_time - start_time:.2f} seconds\")\n",
    "print(f\"Total parameter combinations tested: {len(ada_grid_search.cv_results_['params'])}\")\n",
    "print(f\"Best parameters: {ada_grid_search.best_params_}\")\n",
    "print(f\"Best cross-validation score: {ada_grid_search.best_score_:.4f}\")\n",
    "\n",
    "# Save best estimator (pipeline)\n",
    "joblib.dump(ada_grid_search.best_estimator_, '../models/adaBoost_model.pkl')\n",
    "\n",
    "print(\"Saved best Decision Tree model to ../models/adaBoost_model.pkl\")"
   ]
  },
  {
   "attachments": {},
   "cell_type": "markdown",
   "metadata": {},
   "source": [
    "## V : Cross validation analysis"
   ]
  },
  {
   "cell_type": "code",
   "execution_count": 111,
   "metadata": {},
   "outputs": [
    {
     "name": "stdout",
     "output_type": "stream",
     "text": [
      "\n",
      "cross-validation SVM\n",
      "---------------------------------------------\n",
      "SVM CV Scores: [0.94504021 0.9691689  0.99061662 0.99463087 0.99463087]\n",
      "Mean Accuracy: 0.9788\n",
      "Standard Deviation: 0.0194\n",
      "\n",
      "cross-validation Decision Tree\n",
      "---------------------------------------------\n",
      "DT CV Scores: [0.81367292 0.84986595 0.96514745 0.97181208 0.96107383]\n",
      "Mean Accuracy: 0.9123\n",
      "Standard Deviation: 0.0668\n",
      "\n",
      "cross-validation AdaBooadt\n",
      "---------------------------------------------\n",
      "ADA CV Scores: [0.93029491 0.95174263 0.98659517 0.99463087 0.98657718]\n",
      "Mean Accuracy: 0.9700\n",
      "Standard Deviation: 0.0248\n",
      "\n",
      "Stratified K-Fold Cross-Validation (SVM):\n",
      "---------------------------------------------\n",
      "  Scores: [0.98659517 0.98257373 0.98257373 0.97718121 0.97583893]\n",
      "  Mean Accuracy: 0.9810\n",
      "  Std Deviation: 0.0039\n",
      "\n",
      "Stratified K-Fold Cross-Validation (Decision Tree):\n",
      "---------------------------------------------\n",
      "  Scores: [0.90884718 0.91823056 0.92761394 0.91409396 0.92885906]\n",
      "  Mean Accuracy: 0.9195\n",
      "  Std Deviation: 0.0077\n",
      "\n",
      "Stratified K-Fold Cross-Validation (AdaBoost):\n",
      "---------------------------------------------\n",
      "  Scores: [0.97184987 0.97319035 0.97319035 0.97986577 0.97449664]\n",
      "  Mean Accuracy: 0.9745\n",
      "  Std Deviation: 0.0028\n"
     ]
    }
   ],
   "source": [
    "# K-Fold Cross-Validation\n",
    "svm_cv_scores = cross_val_score(svm_grid_search.best_estimator_, X, y, cv=5, scoring='accuracy')\n",
    "dt_cv_scores = cross_val_score(dt_grid_search.best_estimator_, X, y, cv=5,scoring='accuracy')\n",
    "ada_cv_scores = cross_val_score(ada_grid_search.best_estimator_, X, y , cv=5,scoring='accuracy')\n",
    "\n",
    "\n",
    "print(\"\\ncross-validation SVM\")\n",
    "print(\"-\" * 45)\n",
    "print(f\"SVM CV Scores: {svm_cv_scores}\")\n",
    "print(f\"Mean Accuracy: {svm_cv_scores.mean():.4f}\")\n",
    "print(f\"Standard Deviation: {svm_cv_scores.std():.4f}\")\n",
    "\n",
    "print(\"\\ncross-validation Decision Tree\")\n",
    "print(\"-\" * 45)\n",
    "print(f\"DT CV Scores: {dt_cv_scores}\")\n",
    "print(f\"Mean Accuracy: {dt_cv_scores.mean():.4f}\")\n",
    "print(f\"Standard Deviation: {dt_cv_scores.std():.4f}\")\n",
    "\n",
    "print(\"\\ncross-validation AdaBooadt\")\n",
    "print(\"-\" * 45)\n",
    "print(f\"ADA CV Scores: {ada_cv_scores}\")\n",
    "print(f\"Mean Accuracy: {ada_cv_scores.mean():.4f}\")\n",
    "print(f\"Standard Deviation: {ada_cv_scores.std():.4f}\")\n",
    "\n",
    "# Stratified K-Fold Vross - validation\n",
    "skf = StratifiedKFold(n_splits=5, shuffle=True, random_state=42)\n",
    "svm_stratified_scores = cross_val_score(svm_grid_search.best_estimator_, X, y, cv=skf)\n",
    "dt_stratified_scores = cross_val_score(dt_grid_search.best_estimator_, X, y, cv=skf)\n",
    "ada_stratified_scores = cross_val_score(ada_grid_search.best_estimator_, X, y, cv=skf)\n",
    "\n",
    "\n",
    "\n",
    "\n",
    "print(\"\\nStratified K-Fold Cross-Validation (SVM):\")\n",
    "print(\"-\" * 45)\n",
    "print(f\"  Scores: {svm_stratified_scores}\")\n",
    "print(f\"  Mean Accuracy: {svm_stratified_scores.mean():.4f}\")\n",
    "print(f\"  Std Deviation: {svm_stratified_scores.std():.4f}\")\n",
    "\n",
    "print(\"\\nStratified K-Fold Cross-Validation (Decision Tree):\")\n",
    "print(\"-\" * 45)\n",
    "print(f\"  Scores: {dt_stratified_scores}\")\n",
    "print(f\"  Mean Accuracy: {dt_stratified_scores.mean():.4f}\")\n",
    "print(f\"  Std Deviation: {dt_stratified_scores.std():.4f}\")\n",
    "\n",
    "print(\"\\nStratified K-Fold Cross-Validation (AdaBoost):\")\n",
    "print(\"-\" * 45)\n",
    "print(f\"  Scores: {ada_stratified_scores}\")\n",
    "print(f\"  Mean Accuracy: {ada_stratified_scores.mean():.4f}\")\n",
    "print(f\"  Std Deviation: {ada_stratified_scores.std():.4f}\")\n"
   ]
  },
  {
   "cell_type": "code",
   "execution_count": null,
   "metadata": {},
   "outputs": [],
   "source": []
  },
  {
   "attachments": {},
   "cell_type": "markdown",
   "metadata": {},
   "source": [
    "# starting with Deep learning models"
   ]
  },
  {
   "cell_type": "code",
   "execution_count": 112,
   "metadata": {},
   "outputs": [
    {
     "name": "stdout",
     "output_type": "stream",
     "text": [
      "✓ Vocab size: 8,806\n",
      "min / median / 95-percentile / max 50 153.0 194.94999999999982 238\n"
     ]
    }
   ],
   "source": [
    "PAD_IDX = 0      # index 0 → <PAD>\n",
    "UNK_IDX = 1      # index 1 → <UNK>\n",
    "\n",
    "def tokenize(text: str):\n",
    "    return re.findall(r\"\\b\\w+\\b\", text.lower())\n",
    "\n",
    "def build_vocab(texts, min_freq=2, max_size=50_000):\n",
    "    counter = Counter()\n",
    "    for t in texts: counter.update(tokenize(t))\n",
    "    vocab = {\"<PAD>\": PAD_IDX, \"<UNK>\": UNK_IDX}\n",
    "    for word, freq in counter.most_common():\n",
    "        if freq < min_freq or len(vocab) >= max_size: break\n",
    "        vocab[word] = len(vocab)\n",
    "    return vocab\n",
    "\n",
    "train_texts = X_train.tolist()\n",
    "vocab = build_vocab(train_texts)\n",
    "print(f\"✓ Vocab size: {len(vocab):,}\")\n",
    "\n",
    "lengths = [len(tokenize(t)) for t in X_train]\n",
    "print(\"min / median / 95-percentile / max\",\n",
    "      np.min(lengths), np.median(lengths),\n",
    "      np.percentile(lengths, 95), np.max(lengths))\n"
   ]
  },
  {
   "attachments": {},
   "cell_type": "markdown",
   "metadata": {},
   "source": [
    "# Download the Glove Embeddings"
   ]
  },
  {
   "cell_type": "code",
   "execution_count": 113,
   "metadata": {},
   "outputs": [
    {
     "name": "stdout",
     "output_type": "stream",
     "text": [
      "✓ Using glove.6B.100d.txt\n"
     ]
    }
   ],
   "source": [
    "EMBED_DIM   = 100 \n",
    "MAX_LEN = 240\n",
    "BATCH_SIZE = 32\n",
    "\n",
    "def ensure_glove(dim=100, dest=\".\"):\n",
    "    url  = \"https://huggingface.co/stanfordnlp/glove/resolve/main/glove.6B.zip\"\n",
    "    name = f\"glove.6B.{dim}d.txt\"\n",
    "    path = Path(dest) / name\n",
    "    if path.exists(): return path\n",
    "    print(\"Downloading GloVe (822 MB)…\")\n",
    "    with urllib.request.urlopen(url) as resp:\n",
    "        with zipfile.ZipFile(io.BytesIO(resp.read())) as z:\n",
    "            z.extract(name, dest)\n",
    "    return path\n",
    "\n",
    "glove_path = ensure_glove(EMBED_DIM)\n",
    "print(f\"✓ Using {glove_path.name}\")"
   ]
  },
  {
   "attachments": {},
   "cell_type": "markdown",
   "metadata": {},
   "source": [
    "# Build and create an Embediing Matrix"
   ]
  },
  {
   "cell_type": "code",
   "execution_count": 114,
   "metadata": {},
   "outputs": [
    {
     "name": "stdout",
     "output_type": "stream",
     "text": [
      "✓ Embedding matrix ready\n"
     ]
    }
   ],
   "source": [
    "# ------------------  3. EMBEDDING MATRIX  ------------------\n",
    "emb_matrix = np.random.normal(0, 1, (len(vocab), EMBED_DIM)).astype(np.float32)\n",
    "emb_matrix[PAD_IDX] = 0  # keep padding row all-zeros\n",
    "with open(glove_path, encoding=\"utf-8\") as fh:\n",
    "    for line in fh:\n",
    "        word, *vec = line.strip().split()\n",
    "        if word in vocab:\n",
    "            emb_matrix[vocab[word]] = np.array(vec, dtype=np.float32)\n",
    "print(\"✓ Embedding matrix ready\")"
   ]
  },
  {
   "cell_type": "code",
   "execution_count": 115,
   "metadata": {},
   "outputs": [
    {
     "name": "stdout",
     "output_type": "stream",
     "text": [
      "Data loaders created!\n",
      "Batch size: 32\n",
      "Training batches: 94\n",
      "Validation batches: 24\n"
     ]
    }
   ],
   "source": [
    "# ------------------  4. SEQUENCE DATASET  ------------------\n",
    "class SequenceDataset(Dataset):\n",
    "    def __init__(self, texts, labels, vocab, max_len=MAX_LEN):\n",
    "        self.labels = torch.tensor(labels.values, dtype=torch.long)\n",
    "        self.vocab  = vocab\n",
    "        self.data   = [self.encode(t, max_len) for t in texts]\n",
    "\n",
    "    def encode(self, text, max_len):\n",
    "        ids = [self.vocab.get(tok, UNK_IDX) for tok in tokenize(text)]\n",
    "        ids = (ids + [PAD_IDX]*max_len)[:max_len]\n",
    "        return torch.tensor(ids, dtype=torch.long)\n",
    "\n",
    "    def __len__(self):  return len(self.labels)\n",
    "    def __getitem__(self, idx): return self.data[idx], self.labels[idx]\n",
    "\n",
    "train_ds = SequenceDataset(X_train.tolist(), y_train, vocab)\n",
    "val_ds   = SequenceDataset(X_val.tolist(),   y_val,   vocab)\n",
    "train_loader = DataLoader(train_ds, batch_size=BATCH_SIZE, shuffle=True)\n",
    "val_loader   = DataLoader(val_ds,   batch_size=BATCH_SIZE)\n",
    "\n",
    "print(f\"Data loaders created!\")\n",
    "print(f\"Batch size: {BATCH_SIZE}\")\n",
    "print(f\"Training batches: {len(train_loader)}\")\n",
    "print(f\"Validation batches: {len(val_loader)}\")"
   ]
  },
  {
   "attachments": {},
   "cell_type": "markdown",
   "metadata": {},
   "source": [
    "# Deep learning models building"
   ]
  },
  {
   "cell_type": "code",
   "execution_count": 116,
   "metadata": {},
   "outputs": [],
   "source": [
    "class CNNClassifier(nn.Module):\n",
    "    def __init__(self, vocab_sz, emb_dim, out_dim, emb_mat, kernels=(3,4,5), filters=100):\n",
    "        super().__init__()\n",
    "        self.emb = nn.Embedding(vocab_sz, emb_dim, padding_idx=PAD_IDX)\n",
    "        self.emb.weight.data.copy_(torch.from_numpy(emb_mat))\n",
    "        self.emb.weight.requires_grad = False\n",
    "        self.convs = nn.ModuleList([nn.Conv1d(emb_dim, filters, k) for k in kernels])\n",
    "        self.drop  = nn.Dropout(0.5)\n",
    "        self.fc    = nn.Linear(filters*len(kernels), out_dim)\n",
    "    def forward(self, x):\n",
    "        x = self.emb(x).permute(0,2,1)\n",
    "        feats = [F.relu(c(x)) for c in self.convs]\n",
    "        pools = [F.max_pool1d(f, f.size(2)).squeeze(2) for f in feats]\n",
    "        return self.fc(self.drop(torch.cat(pools,1)))\n",
    "\n",
    "\n",
    "\n",
    "class LSTMClassifier(nn.Module):\n",
    "    def __init__(self, vocab_size, embed_dim, hidden_dim, output_dim, emb_matrix):\n",
    "        super().__init__()\n",
    "        self.embed = nn.Embedding(vocab_size, embed_dim, padding_idx=PAD_IDX)\n",
    "        self.embed.weight.data.copy_(torch.from_numpy(emb_matrix))\n",
    "        self.embed.weight.requires_grad = False          # unfreeze later if you like\n",
    "\n",
    "        self.lstm  = nn.LSTM(embed_dim,\n",
    "                             hidden_dim,\n",
    "                             num_layers=2,\n",
    "                             bidirectional=True,\n",
    "                             dropout=0.3,\n",
    "                             batch_first=True)\n",
    "\n",
    "        self.fc    = nn.Linear(hidden_dim*2, output_dim) # *2 for bidirectional\n",
    "        self.drop  = nn.Dropout(0.3)\n",
    "\n",
    "    def forward(self, x):                    # x: (batch, seq_len)\n",
    "        x = self.embed(x)                    # -> (batch, seq_len, embed_dim)\n",
    "        out, (h, _) = self.lstm(x)\n",
    "        h_cat = torch.cat((h[-2], h[-1]), dim=1)  # concat last fwd+rev layer\n",
    "        return self.fc(self.drop(h_cat))\n",
    "\n",
    "\n",
    "class RNNClassifier(nn.Module):\n",
    "    def __init__(self, vocab_size, embed_dim, hidden_dim, output_dim, emb_matrix):\n",
    "        super().__init__()\n",
    "        self.embed = nn.Embedding(vocab_size, embed_dim, padding_idx=PAD_IDX)\n",
    "        self.embed.weight.data.copy_(torch.from_numpy(emb_matrix))\n",
    "        self.embed.weight.requires_grad = False\n",
    "\n",
    "        self.rnn  = nn.GRU(embed_dim,\n",
    "                           hidden_dim,\n",
    "                           num_layers=2,\n",
    "                           bidirectional=True,\n",
    "                           dropout=0.3,\n",
    "                           batch_first=True)\n",
    "\n",
    "        self.fc   = nn.Linear(hidden_dim*2, output_dim)\n",
    "        self.drop = nn.Dropout(0.3)\n",
    "\n",
    "    def forward(self, x):\n",
    "        x = self.embed(x)\n",
    "        _, h = self.rnn(x)\n",
    "        h_cat = torch.cat((h[-2], h[-1]), dim=1)\n",
    "        return self.fc(self.drop(h_cat))\n"
   ]
  },
  {
   "attachments": {},
   "cell_type": "markdown",
   "metadata": {},
   "source": [
    "# Training Function"
   ]
  },
  {
   "cell_type": "code",
   "execution_count": 117,
   "metadata": {},
   "outputs": [],
   "source": [
    "N_EPOCHS    = 5\n",
    "LR          = 1e-3\n",
    "DEVICE      = \"cuda\" if torch.cuda.is_available() else \"cpu\"\n",
    "MODEL_DIR = os.path.join(\"..\", \"models\")  # go up from notebooks to models\n",
    "os.makedirs(MODEL_DIR, exist_ok=True)\n",
    "\n",
    "import os\n",
    "\n",
    "\n",
    "def train_model(model, name):\n",
    "    model.to(DEVICE)\n",
    "    opt = torch.optim.Adam(model.parameters(), lr=LR)\n",
    "    loss_fn = nn.CrossEntropyLoss()\n",
    "    for epoch in range(1, N_EPOCHS+1):\n",
    "        model.train()\n",
    "        total = 0\n",
    "        for xb, yb in train_loader:\n",
    "            xb, yb = xb.to(DEVICE), yb.to(DEVICE)\n",
    "            opt.zero_grad()\n",
    "            loss = loss_fn(model(xb), yb)\n",
    "            loss.backward()\n",
    "            opt.step()\n",
    "            total += loss.item()\n",
    "        print(f\"{name.upper()}  epoch {epoch}/{N_EPOCHS}  loss {total/len(train_loader):.4f}\")\n",
    "    torch.save(model.state_dict(), f\"{MODEL_DIR}/{name}_model.pkl\")\n",
    "    print(f\"→ Saved {name}_model.pkl\")\n",
    "\n",
    "models = {\n",
    "\n",
    "    \"rnn\":  RNNClassifier (len(vocab), EMBED_DIM, 128, 2, emb_matrix),\n",
    "    \"lstm\": LSTMClassifier(len(vocab), EMBED_DIM, 128, 2, emb_matrix), \n",
    "    \"cnn\":  CNNClassifier(len(vocab), EMBED_DIM, 2, emb_matrix),\n",
    "    \n",
    "}\n",
    "\n"
   ]
  },
  {
   "attachments": {},
   "cell_type": "markdown",
   "metadata": {},
   "source": [
    "# Train Phase"
   ]
  },
  {
   "cell_type": "code",
   "execution_count": 118,
   "metadata": {},
   "outputs": [
    {
     "name": "stdout",
     "output_type": "stream",
     "text": [
      "RNN  epoch 1/5  loss 0.5544\n",
      "RNN  epoch 2/5  loss 0.2309\n",
      "RNN  epoch 3/5  loss 0.1726\n",
      "RNN  epoch 4/5  loss 0.1453\n",
      "RNN  epoch 5/5  loss 0.1349\n",
      "→ Saved rnn_model.pkl\n",
      "LSTM  epoch 1/5  loss 0.5318\n",
      "LSTM  epoch 2/5  loss 0.6104\n",
      "LSTM  epoch 3/5  loss 0.4788\n",
      "LSTM  epoch 4/5  loss 0.4334\n",
      "LSTM  epoch 5/5  loss 0.3714\n",
      "→ Saved lstm_model.pkl\n",
      "CNN  epoch 1/5  loss 0.3193\n",
      "CNN  epoch 2/5  loss 0.2049\n",
      "CNN  epoch 3/5  loss 0.1609\n",
      "CNN  epoch 4/5  loss 0.1205\n",
      "CNN  epoch 5/5  loss 0.1042\n",
      "→ Saved cnn_model.pkl\n"
     ]
    }
   ],
   "source": [
    "for name, model in models.items():\n",
    "    train_model(model, name)"
   ]
  },
  {
   "cell_type": "code",
   "execution_count": 119,
   "metadata": {},
   "outputs": [
    {
     "name": "stdout",
     "output_type": "stream",
     "text": [
      "✅  vocab.pkl, emb_matrix.npy, dl_config.pkl saved to ..\\models\n"
     ]
    }
   ],
   "source": [
    "\n",
    "import os, pickle, numpy as np\n",
    "\n",
    "MODEL_DIR = os.path.join(\"..\", \"models\")       # same folder you save .pkl models to\n",
    "os.makedirs(MODEL_DIR, exist_ok=True)\n",
    "\n",
    "# 1️⃣  Save the vocabulary  (whatever type it is, as long as len(vocab) works)\n",
    "with open(os.path.join(MODEL_DIR, \"vocab.pkl\"), \"wb\") as f:\n",
    "    pickle.dump(vocab, f)\n",
    "\n",
    "# 2️⃣  Save the embedding matrix  (NumPy array, shape = [vocab_size, embed_dim])\n",
    "np.save(os.path.join(MODEL_DIR, \"emb_matrix.npy\"), emb_matrix)\n",
    "\n",
    "# 3️⃣  (Optional) save any config-y bits you might need later\n",
    "CONFIG = {\n",
    "    \"PAD_IDX\": PAD_IDX,          # keep the same padding-token index\n",
    "    \"EMBED_DIM\": emb_matrix.shape[1],\n",
    "}\n",
    "with open(os.path.join(MODEL_DIR, \"dl_config.pkl\"), \"wb\") as f:\n",
    "    pickle.dump(CONFIG, f)\n",
    "\n",
    "print(\"✅  vocab.pkl, emb_matrix.npy, dl_config.pkl saved to\", MODEL_DIR)\n"
   ]
  },
  {
   "attachments": {},
   "cell_type": "markdown",
   "metadata": {},
   "source": [
    "# From the above results , we can see that the stratified cross validation gives better Accuracy than the normal K-fold validation"
   ]
  },
  {
   "attachments": {},
   "cell_type": "markdown",
   "metadata": {},
   "source": [
    "## VI : Model Evaluation and Comparison"
   ]
  },
  {
   "cell_type": "code",
   "execution_count": 120,
   "metadata": {},
   "outputs": [
    {
     "name": "stdout",
     "output_type": "stream",
     "text": [
      "SVM Classification Report:\n",
      "              precision    recall  f1-score   support\n",
      "\n",
      "           0       0.97      0.98      0.98       373\n",
      "           1       0.98      0.97      0.98       373\n",
      "\n",
      "    accuracy                           0.98       746\n",
      "   macro avg       0.98      0.98      0.98       746\n",
      "weighted avg       0.98      0.98      0.98       746\n",
      "\n",
      "Confusion Matrix:\n",
      "[[365   8]\n",
      " [ 10 363]]\n",
      "ROC AUC: 0.9981959188954136\n",
      "\n",
      "Decision Tree Classification Report:\n",
      "              precision    recall  f1-score   support\n",
      "\n",
      "           0       0.91      0.92      0.92       373\n",
      "           1       0.92      0.91      0.92       373\n",
      "\n",
      "    accuracy                           0.92       746\n",
      "   macro avg       0.92      0.92      0.92       746\n",
      "weighted avg       0.92      0.92      0.92       746\n",
      "\n",
      "Confusion Matrix:\n",
      "[[345  28]\n",
      " [ 33 340]]\n",
      "ROC AUC: 0.9116575264682416\n",
      "\n",
      "AdaBoost Classification Report:\n",
      "              precision    recall  f1-score   support\n",
      "\n",
      "           0       0.95      0.97      0.96       373\n",
      "           1       0.97      0.95      0.96       373\n",
      "\n",
      "    accuracy                           0.96       746\n",
      "   macro avg       0.96      0.96      0.96       746\n",
      "weighted avg       0.96      0.96      0.96       746\n",
      "\n",
      "Confusion Matrix:\n",
      "[[362  11]\n",
      " [ 18 355]]\n",
      "ROC AUC: 0.9946596324274594\n",
      "\n"
     ]
    },
    {
     "data": {
      "image/png": "[encoded data removed]",
      "text/plain": [
       "<Figure size 640x480 with 1 Axes>"
      ]
     },
     "metadata": {},
     "output_type": "display_data"
    }
   ],
   "source": [
    "# Evaluate on validation set\n",
    "\n",
    "models = {'SVM': svm_grid_search.best_estimator_, 'Decision Tree': dt_grid_search.best_estimator_, 'AdaBoost': ada_grid_search.best_estimator_}\n",
    "\n",
    "for name, model in models.items():\n",
    "    preds = model.predict(X_val)\n",
    "    probs = model.predict_proba(X_val)[:,1]\n",
    "    print(f\"{name} Classification Report:\")\n",
    "    print(classification_report(y_val, preds))\n",
    "    cm = confusion_matrix(y_val, preds)\n",
    "    print(f\"Confusion Matrix:\\n{cm}\")\n",
    "    roc_auc = roc_auc_score(y_val, probs)\n",
    "    print(f\"ROC AUC: {roc_auc}\\n\")\n",
    "\n",
    "# Plot ROC curves\n",
    "plt.figure()\n",
    "for name, model in models.items():\n",
    "    probs = model.predict_proba(X_val)[:,1]\n",
    "    fpr, tpr, _ = roc_curve(y_val, probs)\n",
    "    plt.plot(fpr, tpr, label=f\"{name} (AUC={roc_auc_score(y_val, probs):.2f})\")\n",
    "plt.plot([0,1], [0,1], 'k--')\n",
    "plt.title('ROC Curves')\n",
    "plt.xlabel('False Positive Rate')\n",
    "plt.ylabel('True Positive Rate')\n",
    "plt.legend()\n",
    "plt.show()\n"
   ]
  },
  {
   "cell_type": "code",
   "execution_count": 121,
   "metadata": {},
   "outputs": [
    {
     "name": "stdout",
     "output_type": "stream",
     "text": [
      "\n",
      "CNN Confusion matrix:\n",
      " [[354  19]\n",
      " [ 35 338]]\n",
      "\n",
      "LSTM Confusion matrix:\n",
      " [[204 169]\n",
      " [ 57 316]]\n",
      "\n",
      "RNN Confusion matrix:\n",
      " [[369   4]\n",
      " [ 55 318]]\n"
     ]
    },
    {
     "data": {
      "image/png": "[encoded data removed]",
      "text/plain": [
       "<Figure size 640x480 with 1 Axes>"
      ]
     },
     "metadata": {},
     "output_type": "display_data"
    }
   ],
   "source": [
    "import torch\n",
    "import numpy as np                      # ← you need this for np.array\n",
    "from sklearn.metrics import (confusion_matrix,\n",
    "                             roc_auc_score, roc_curve)\n",
    "import matplotlib.pyplot as plt\n",
    "\n",
    "DEVICE = \"cuda\" if torch.cuda.is_available() else \"cpu\"\n",
    "\n",
    "\n",
    "cnn_model  = CNNClassifier (len(vocab), EMBED_DIM, 2, emb_matrix)\n",
    "lstm_model = LSTMClassifier(len(vocab), EMBED_DIM, 128, 2, emb_matrix)\n",
    "rnn_model  = RNNClassifier (len(vocab), EMBED_DIM, 128, 2, emb_matrix)  \n",
    "\n",
    "\n",
    "#  Load the saved weights\n",
    "\n",
    "cnn_model.load_state_dict (torch.load(\"../models/cnn_model.pkl\",  map_location=\"cpu\"))\n",
    "lstm_model.load_state_dict(torch.load(\"../models/lstm_model.pkl\", map_location=\"cpu\"))\n",
    "rnn_model.load_state_dict (torch.load(\"../models/rnn_model.pkl\",  map_location=\"cpu\"))\n",
    "\n",
    "cnn_model.eval(); lstm_model.eval(); rnn_model.eval()\n",
    "\n",
    "\n",
    "dl_models = {\n",
    "    \"CNN\" : cnn_model,\n",
    "    \"LSTM\": lstm_model,\n",
    "    \"RNN\" : rnn_model      # keep the same variable name you created\n",
    "}\n",
    "\n",
    "\n",
    "def predict_dl(model, loader):\n",
    "    model.to(DEVICE).eval()\n",
    "    y_true, y_pred, y_prob = [], [], []\n",
    "    with torch.no_grad():\n",
    "        for xb, yb in loader:\n",
    "            xb = xb.to(DEVICE)\n",
    "            logits = model(xb)\n",
    "            probs  = torch.softmax(logits, 1)[:, 1]\n",
    "            y_true.extend(yb.numpy())\n",
    "            y_pred.extend(logits.argmax(1).cpu().numpy())\n",
    "            y_prob.extend(probs.cpu().numpy())\n",
    "    return np.array(y_true), np.array(y_pred), np.array(y_prob)\n",
    "\n",
    "# ------------------------------------------------------------------\n",
    "# 4. Confusion matrices + ROC curves\n",
    "# ------------------------------------------------------------------\n",
    "plt.figure()\n",
    "\n",
    "for name, model in dl_models.items():\n",
    "    y_true, y_pred, y_prob = predict_dl(model, val_loader)\n",
    "\n",
    "    # → Confusion matrix\n",
    "    print(f\"\\n{name} Confusion matrix:\\n\", confusion_matrix(y_true, y_pred))\n",
    "\n",
    "    \n",
    "for name, model in dl_models.items():\n",
    "    y_true, _, y_prob = predict_dl(model, val_loader)\n",
    "    fpr, tpr, _ = roc_curve(y_true, y_prob)\n",
    "    auc = roc_auc_score(y_true, y_prob)\n",
    "    plt.plot(fpr, tpr, linewidth=2, label=f\"{name} (AUC = {auc:.2f})\")\n",
    "\n",
    "# chance line\n",
    "plt.plot([0,1], [0,1], 'k--', label=\"Chance\")\n",
    "plt.xlabel(\"False Positive Rate\")\n",
    "plt.ylabel(\"True Positive Rate\")\n",
    "plt.title(\"ROC Curves – Deep-Learning Models\")\n",
    "plt.legend(loc=\"lower right\")\n",
    "plt.grid(True)\n",
    "plt.tight_layout()\n",
    "plt.show()\n"
   ]
  },
  {
   "attachments": {},
   "cell_type": "markdown",
   "metadata": {},
   "source": [
    "## VII : Final Predictions and results"
   ]
  },
  {
   "cell_type": "code",
   "execution_count": null,
   "metadata": {},
   "outputs": [
    {
     "name": "stdout",
     "output_type": "stream",
     "text": [
      "Predictions saved to ./kwesi_danso_assignment_2_R11965154.csv\n"
     ]
    }
   ],
   "source": [
    "# saving Predictions to csv file.\n",
    "\n",
    "best_model = svm_grid_search.best_estimator_\n",
    "df_test['label'] = best_model.predict(df_test['essay'])  \n",
    "output = df_test[['essay', 'label']]\n",
    "output.to_csv('./kwesi_danso_assignment_2_R11965154.csv', index=False)\n",
    "print('Predictions saved to ./kwesi_danso_assignment_2_R11965154.csv')\n",
    "\n",
    "\n"
   ]
  },
  {
   "attachments": {},
   "cell_type": "markdown",
   "metadata": {},
   "source": [
    "## ADDITIONAL BONUS  TASKS"
   ]
  },
  {
   "attachments": {},
   "cell_type": "markdown",
   "metadata": {},
   "source": [
    "# Task 1: Advanced pipeline features."
   ]
  },
  {
   "cell_type": "code",
   "execution_count": null,
   "metadata": {},
   "outputs": [],
   "source": [
    "\n",
    "\n",
    "# A custom transformer to handle preprocessing\n",
    "class NLTKPreprocessor(BaseEstimator, TransformerMixin):\n",
    "    def __init__(self):\n",
    "        pass\n",
    "\n",
    "    def fit(self, X, y=None):\n",
    "        return self\n",
    "\n",
    "    def transform(self, X):\n",
    "        processed = []\n",
    "        for doc in X:\n",
    "            if not isinstance(doc, str):\n",
    "                doc = \"\"\n",
    "            doc = remove_stopwords(doc)\n",
    "            tokens = doc.split()\n",
    "            tokens = preprocess_lematise(tokens)\n",
    "            processed.append(\" \".join(tokens))\n",
    "        return processed\n",
    "\n",
    "\n",
    "\n"
   ]
  },
  {
   "cell_type": "code",
   "execution_count": null,
   "metadata": {},
   "outputs": [
    {
     "name": "stdout",
     "output_type": "stream",
     "text": [
      "Pipeline Accuracy with NLTKPreprocessor: 0.9517\n"
     ]
    }
   ],
   "source": [
    "# Define a pipeline for preprocessing ,vectoriztaion and the classifier.\n",
    "preprocess_pipeline = Pipeline([\n",
    "    ('preprocessor', NLTKPreprocessor()),                   # Custom preprocessing\n",
    "    ('vectorizer', TfidfVectorizer()),                      # TF-IDF vectorization   \n",
    "    ('classifier', SVC(probability=True, random_state=42))  # Classifier\n",
    "])\n",
    "\n",
    "# Fit the pipeline\n",
    "preprocess_pipeline.fit(X_train, y_train)\n",
    "\n",
    "# Evaluate on validation data\n",
    "accuracy = preprocess_pipeline.score(X_val,y_val)\n",
    "print(f\"Pipeline Accuracy with NLTKPreprocessor: {accuracy:.4f}\")\n",
    "\n"
   ]
  },
  {
   "attachments": {},
   "cell_type": "markdown",
   "metadata": {},
   "source": [
    "# Task 2 : Ensemble methods"
   ]
  },
  {
   "cell_type": "code",
   "execution_count": null,
   "metadata": {},
   "outputs": [
    {
     "name": "stdout",
     "output_type": "stream",
     "text": [
      "The voting ensemble accuracy is : 0.9289544235924933\n"
     ]
    }
   ],
   "source": [
    "voting_clf = VotingClassifier(\n",
    "    estimators=[\n",
    "        ('svm', svm_grid_search.best_estimator_), \n",
    "        ('dt', dt_grid_search.best_estimator_)\n",
    "    ],\n",
    "    voting='soft'  # Uses predicted probabilities\n",
    ")\n",
    "\n",
    "voting_clf.fit(X_train, y_train)\n",
    "print('The voting ensemble accuracy is :', voting_clf.score(X_val, y_val))\n",
    "\n"
   ]
  },
  {
   "attachments": {},
   "cell_type": "markdown",
   "metadata": {},
   "source": [
    "# Task 3: Integrating a feature extraction method into pipeline"
   ]
  },
  {
   "cell_type": "code",
   "execution_count": null,
   "metadata": {},
   "outputs": [
    {
     "name": "stdout",
     "output_type": "stream",
     "text": [
      "SelectKBest pipeline accuracy: 0.9745\n"
     ]
    }
   ],
   "source": [
    "# Integrating feature extraction into pipeline\n",
    "\n",
    "fs_pipeline = Pipeline([\n",
    "    ('preprocess', NLTKPreprocessor()),                  # Custom preprocessor class\n",
    "    ('vectorizer', TfidfVectorizer()),                   # TF-IDF\n",
    "    ('selector', SelectKBest(score_func=chi2, k=1000)),  # Feature selection\n",
    "    ('classifier', SVC(probability=True, random_state=42))  # Classifier\n",
    "])\n",
    "\n",
    "# Train pipeline\n",
    "fs_pipeline.fit(X_train, y_train)\n",
    "\n",
    "# Evaluate\n",
    "accuracy = fs_pipeline.score(X_val, y_val)\n",
    "print(f\"SelectKBest pipeline accuracy: {accuracy:.4f}\")"
   ]
  },
  {
   "cell_type": "code",
   "execution_count": null,
   "metadata": {},
   "outputs": [
    {
     "name": "stdout",
     "output_type": "stream",
     "text": [
      "Pipeline(steps=[('vectorizer',\n",
      "                 TfidfVectorizer(max_features=5000, ngram_range=(1, 3))),\n",
      "                ('classifier', AdaBoostClassifier(n_estimators=200))])\n"
     ]
    }
   ],
   "source": [
    "model = joblib.load('../models/adaBoost_model.pkl')\n",
    "print(model)"
   ]
  },
  {
   "cell_type": "code",
   "execution_count": null,
   "metadata": {},
   "outputs": [],
   "source": []
  },
  {
   "cell_type": "code",
   "execution_count": null,
   "metadata": {},
   "outputs": [],
   "source": []
  }
 ],
 "metadata": {
  "kernelspec": {
   "display_name": "llm",
   "language": "python",
   "name": "python3"
  },
  "language_info": {
   "codemirror_mode": {
    "name": "ipython",
    "version": 3
   },
   "file_extension": ".py",
   "mimetype": "text/x-python",
   "name": "python",
   "nbconvert_exporter": "python",
   "pygments_lexer": "ipython3",
   "version": "3.12.10"
  },
  "orig_nbformat": 4,
  "vscode": {
   "interpreter": {
    "hash": "4b468894727bc762b11628e11cf13cbfa7463caace416a6f1a0759cf1cb2b70f"
   }
  }
 },
 "nbformat": 4,
 "nbformat_minor": 2
}
